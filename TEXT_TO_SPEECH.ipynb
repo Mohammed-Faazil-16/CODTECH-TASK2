{
  "nbformat": 4,
  "nbformat_minor": 0,
  "metadata": {
    "colab": {
      "provenance": [],
      "authorship_tag": "ABX9TyOMULRLgyS3otXpPnOLJ8hp",
      "include_colab_link": true
    },
    "kernelspec": {
      "name": "python3",
      "display_name": "Python 3"
    },
    "language_info": {
      "name": "python"
    }
  },
  "cells": [
    {
      "cell_type": "markdown",
      "metadata": {
        "id": "view-in-github",
        "colab_type": "text"
      },
      "source": [
        "<a href=\"https://colab.research.google.com/github/Mohammed-Faazil-16/CODTECH-TASK2/blob/main/TEXT_TO_SPEECH.ipynb\" target=\"_parent\"><img src=\"https://colab.research.google.com/assets/colab-badge.svg\" alt=\"Open In Colab\"/></a>"
      ]
    },
    {
      "cell_type": "code",
      "execution_count": 3,
      "metadata": {
        "colab": {
          "base_uri": "https://localhost:8080/"
        },
        "id": "e5ai27O4BYo3",
        "outputId": "b04b2618-2fb2-41af-feee-9bf8e3202925"
      },
      "outputs": [
        {
          "output_type": "stream",
          "name": "stdout",
          "text": [
            "Requirement already satisfied: gtts in /usr/local/lib/python3.10/dist-packages (2.5.4)\n",
            "Requirement already satisfied: pyttsx3 in /usr/local/lib/python3.10/dist-packages (2.98)\n",
            "Requirement already satisfied: playsound in /usr/local/lib/python3.10/dist-packages (1.3.0)\n",
            "Requirement already satisfied: requests<3,>=2.27 in /usr/local/lib/python3.10/dist-packages (from gtts) (2.32.3)\n",
            "Requirement already satisfied: click<8.2,>=7.1 in /usr/local/lib/python3.10/dist-packages (from gtts) (8.1.7)\n",
            "Requirement already satisfied: charset-normalizer<4,>=2 in /usr/local/lib/python3.10/dist-packages (from requests<3,>=2.27->gtts) (3.4.0)\n",
            "Requirement already satisfied: idna<4,>=2.5 in /usr/local/lib/python3.10/dist-packages (from requests<3,>=2.27->gtts) (3.10)\n",
            "Requirement already satisfied: urllib3<3,>=1.21.1 in /usr/local/lib/python3.10/dist-packages (from requests<3,>=2.27->gtts) (2.2.3)\n",
            "Requirement already satisfied: certifi>=2017.4.17 in /usr/local/lib/python3.10/dist-packages (from requests<3,>=2.27->gtts) (2024.12.14)\n",
            "Welcome to Text-to-Speech Application!\n",
            "Choose the TTS engine:\n",
            "1. Google TTS (gTTS - Online, supports multiple languages)\n",
            "2. pyttsx3 (Offline, customizable)\n",
            "Enter your choice (1/2): 1\n",
            "Enter the text you want to convert to speech: i am a computer science engineer\n",
            "Enter the language code (e.g., 'en' for English, 'es' for Spanish): en\n",
            "Do you want to save the audio file? (yes/no): yes\n",
            "Audio saved as: output.mp3\n"
          ]
        }
      ],
      "source": [
        "\n",
        "!pip install gtts pyttsx3 playsound\n",
        "\n",
        "import pyttsx3\n",
        "from gtts import gTTS\n",
        "import os\n",
        "\n",
        "def tts_gtts(text, lang=\"en\", save_as_file=False, filename=\"output.mp3\"):\n",
        "    \"\"\"\n",
        "    Text-to-Speech using gTTS (Google Text-to-Speech)\n",
        "    \"\"\"\n",
        "    try:\n",
        "        # Generate speech\n",
        "        tts = gTTS(text=text, lang=lang, slow=False)\n",
        "        if save_as_file:\n",
        "            tts.save(filename)\n",
        "            print(f\"Audio saved as: {filename}\")\n",
        "        else:\n",
        "            # Play directly\n",
        "            tts.save(\"temp.mp3\")\n",
        "            os.system(\"start temp.mp3\" if os.name == \"nt\" else \"open temp.mp3\")\n",
        "    except Exception as e:\n",
        "        print(f\"Error using gTTS: {e}\")\n",
        "\n",
        "def tts_pyttsx3(text, voice=\"male\", rate=150):\n",
        "    \"\"\"\n",
        "    Text-to-Speech using pyttsx3 (Offline)\n",
        "    \"\"\"\n",
        "    try:\n",
        "        engine = pyttsx3.init()\n",
        "        voices = engine.getProperty(\"voices\")\n",
        "\n",
        "        # Set voice\n",
        "        if voice == \"female\":\n",
        "            engine.setProperty(\"voice\", voices[1].id)\n",
        "        else:\n",
        "            engine.setProperty(\"voice\", voices[0].id)\n",
        "\n",
        "        # Set speech rate\n",
        "        engine.setProperty(\"rate\", rate)\n",
        "\n",
        "        # Speak\n",
        "        engine.say(text)\n",
        "        engine.runAndWait()\n",
        "    except Exception as e:\n",
        "        print(f\"Error using pyttsx3: {e}\")\n",
        "\n",
        "def main():\n",
        "    print(\"Welcome to Text-to-Speech Application!\")\n",
        "    print(\"Choose the TTS engine:\")\n",
        "    print(\"1. Google TTS (gTTS - Online, supports multiple languages)\")\n",
        "    print(\"2. pyttsx3 (Offline, customizable)\")\n",
        "\n",
        "    choice = input(\"Enter your choice (1/2): \")\n",
        "\n",
        "    if choice not in [\"1\", \"2\"]:\n",
        "        print(\"Invalid choice. Exiting.\")\n",
        "        return\n",
        "\n",
        "    text = input(\"Enter the text you want to convert to speech: \")\n",
        "\n",
        "    if choice == \"1\":\n",
        "        lang = input(\"Enter the language code (e.g., 'en' for English, 'es' for Spanish): \")\n",
        "        save_option = input(\"Do you want to save the audio file? (yes/no): \").lower()\n",
        "        save_as_file = save_option in [\"yes\", \"y\"]\n",
        "        tts_gtts(text, lang, save_as_file)\n",
        "    else:\n",
        "        voice = input(\"Choose voice (male/female): \").lower()\n",
        "        rate = int(input(\"Enter the speech rate (default is 150): \"))\n",
        "        tts_pyttsx3(text, voice, rate)\n",
        "\n",
        "if __name__ == \"__main__\":\n",
        "    main()\n"
      ]
    }
  ]
}